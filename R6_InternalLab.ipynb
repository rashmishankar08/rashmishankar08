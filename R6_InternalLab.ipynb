{
  "nbformat": 4,
  "nbformat_minor": 0,
  "metadata": {
    "colab": {
      "name": "R6_InternalLab.ipynb",
      "provenance": [],
      "collapsed_sections": [],
      "include_colab_link": true
    },
    "kernelspec": {
      "name": "python3",
      "display_name": "Python 3"
    }
  },
  "cells": [
    {
      "cell_type": "markdown",
      "metadata": {
        "id": "view-in-github",
        "colab_type": "text"
      },
      "source": [
        "<a href=\"https://colab.research.google.com/github/rashmishankar08/rashmishankar08/blob/master/R6_InternalLab.ipynb\" target=\"_parent\"><img src=\"https://colab.research.google.com/assets/colab-badge.svg\" alt=\"Open In Colab\"/></a>"
      ]
    },
    {
      "cell_type": "code",
      "metadata": {
        "colab": {
          "base_uri": "https://localhost:8080/"
        },
        "id": "PCuT1tKJmsc9",
        "outputId": "f1587af2-42ac-4bbe-9676-b36e8a7d191e"
      },
      "source": [
        "from google.colab import drive\r\n",
        "drive.mount('/content/gdrive')\r\n",
        "# in case issues with mounting drive"
      ],
      "execution_count": 116,
      "outputs": [
        {
          "output_type": "stream",
          "text": [
            "Mounted at /content/gdrive\n"
          ],
          "name": "stdout"
        }
      ]
    },
    {
      "cell_type": "markdown",
      "metadata": {
        "id": "zUZjPnVXGz0Z"
      },
      "source": [
        "# The Iris Dataset\n",
        "The data set consists of 50 samples from each of three species of Iris (Iris setosa, Iris virginica and Iris versicolor). Four features were measured from each sample: the length and the width of the sepals and petals, in centimeters.\n",
        "\n",
        "The dataset contains a set of 150 records under five attributes - petal length, petal width, sepal length, sepal width and species."
      ]
    },
    {
      "cell_type": "markdown",
      "metadata": {
        "id": "RMbmpriavLE9"
      },
      "source": [
        "### Specifying the TensorFlow version\n",
        "Running `import tensorflow` will import the default version (currently 1.x). You can use 2.x by running a cell with the `tensorflow_version` magic **before** you run `import tensorflow`."
      ]
    },
    {
      "cell_type": "code",
      "metadata": {
        "id": "fu8bUU__oa7h"
      },
      "source": [
        "%tensorflow_version 2.x"
      ],
      "execution_count": 82,
      "outputs": []
    },
    {
      "cell_type": "markdown",
      "metadata": {
        "id": "bLz1Ckvfvn6D"
      },
      "source": [
        "### Import TensorFlow\n",
        "Once you have specified a version via this magic, you can run `import tensorflow` as normal and verify which version was imported as follows:"
      ]
    },
    {
      "cell_type": "code",
      "metadata": {
        "id": "CWrzVTLOvn6M",
        "colab": {
          "base_uri": "https://localhost:8080/"
        },
        "outputId": "4912aa5c-b517-4494-ca88-97d447303a09"
      },
      "source": [
        "import tensorflow as tf\n",
        "print(tf.__version__)"
      ],
      "execution_count": 83,
      "outputs": [
        {
          "output_type": "stream",
          "text": [
            "2.4.0\n"
          ],
          "name": "stdout"
        }
      ]
    },
    {
      "cell_type": "markdown",
      "metadata": {
        "id": "_uYeJgkNuXNC"
      },
      "source": [
        "### Set random seed"
      ]
    },
    {
      "cell_type": "code",
      "metadata": {
        "id": "lcASNsewsfQX"
      },
      "source": [
        "tf.random.set_seed(42)"
      ],
      "execution_count": 84,
      "outputs": []
    },
    {
      "cell_type": "markdown",
      "metadata": {
        "id": "5-vVQBBqg7DI"
      },
      "source": [
        "## Question 1"
      ]
    },
    {
      "cell_type": "markdown",
      "metadata": {
        "id": "kE0EDKvQhEIe"
      },
      "source": [
        "### Import dataset\n",
        "- Import iris dataset\n",
        "- Import the dataset using sklearn library"
      ]
    },
    {
      "cell_type": "code",
      "metadata": {
        "id": "IOOWpD26Haq3"
      },
      "source": [
        "from sklearn import datasets\r\n",
        "iris = datasets.load_iris()"
      ],
      "execution_count": 85,
      "outputs": []
    },
    {
      "cell_type": "markdown",
      "metadata": {
        "id": "ta8YqInTh5v5"
      },
      "source": [
        "## Question 2"
      ]
    },
    {
      "cell_type": "code",
      "metadata": {
        "colab": {
          "base_uri": "https://localhost:8080/"
        },
        "id": "n5FnnJmyjny_",
        "outputId": "f3d06f30-5d11-47f5-ee96-cd56bb0db923"
      },
      "source": [
        "iris"
      ],
      "execution_count": 22,
      "outputs": [
        {
          "output_type": "execute_result",
          "data": {
            "text/plain": [
              "{'DESCR': '.. _iris_dataset:\\n\\nIris plants dataset\\n--------------------\\n\\n**Data Set Characteristics:**\\n\\n    :Number of Instances: 150 (50 in each of three classes)\\n    :Number of Attributes: 4 numeric, predictive attributes and the class\\n    :Attribute Information:\\n        - sepal length in cm\\n        - sepal width in cm\\n        - petal length in cm\\n        - petal width in cm\\n        - class:\\n                - Iris-Setosa\\n                - Iris-Versicolour\\n                - Iris-Virginica\\n                \\n    :Summary Statistics:\\n\\n    ============== ==== ==== ======= ===== ====================\\n                    Min  Max   Mean    SD   Class Correlation\\n    ============== ==== ==== ======= ===== ====================\\n    sepal length:   4.3  7.9   5.84   0.83    0.7826\\n    sepal width:    2.0  4.4   3.05   0.43   -0.4194\\n    petal length:   1.0  6.9   3.76   1.76    0.9490  (high!)\\n    petal width:    0.1  2.5   1.20   0.76    0.9565  (high!)\\n    ============== ==== ==== ======= ===== ====================\\n\\n    :Missing Attribute Values: None\\n    :Class Distribution: 33.3% for each of 3 classes.\\n    :Creator: R.A. Fisher\\n    :Donor: Michael Marshall (MARSHALL%PLU@io.arc.nasa.gov)\\n    :Date: July, 1988\\n\\nThe famous Iris database, first used by Sir R.A. Fisher. The dataset is taken\\nfrom Fisher\\'s paper. Note that it\\'s the same as in R, but not as in the UCI\\nMachine Learning Repository, which has two wrong data points.\\n\\nThis is perhaps the best known database to be found in the\\npattern recognition literature.  Fisher\\'s paper is a classic in the field and\\nis referenced frequently to this day.  (See Duda & Hart, for example.)  The\\ndata set contains 3 classes of 50 instances each, where each class refers to a\\ntype of iris plant.  One class is linearly separable from the other 2; the\\nlatter are NOT linearly separable from each other.\\n\\n.. topic:: References\\n\\n   - Fisher, R.A. \"The use of multiple measurements in taxonomic problems\"\\n     Annual Eugenics, 7, Part II, 179-188 (1936); also in \"Contributions to\\n     Mathematical Statistics\" (John Wiley, NY, 1950).\\n   - Duda, R.O., & Hart, P.E. (1973) Pattern Classification and Scene Analysis.\\n     (Q327.D83) John Wiley & Sons.  ISBN 0-471-22361-1.  See page 218.\\n   - Dasarathy, B.V. (1980) \"Nosing Around the Neighborhood: A New System\\n     Structure and Classification Rule for Recognition in Partially Exposed\\n     Environments\".  IEEE Transactions on Pattern Analysis and Machine\\n     Intelligence, Vol. PAMI-2, No. 1, 67-71.\\n   - Gates, G.W. (1972) \"The Reduced Nearest Neighbor Rule\".  IEEE Transactions\\n     on Information Theory, May 1972, 431-433.\\n   - See also: 1988 MLC Proceedings, 54-64.  Cheeseman et al\"s AUTOCLASS II\\n     conceptual clustering system finds 3 classes in the data.\\n   - Many, many more ...',\n",
              " 'data': array([[5.1, 3.5, 1.4, 0.2],\n",
              "        [4.9, 3. , 1.4, 0.2],\n",
              "        [4.7, 3.2, 1.3, 0.2],\n",
              "        [4.6, 3.1, 1.5, 0.2],\n",
              "        [5. , 3.6, 1.4, 0.2],\n",
              "        [5.4, 3.9, 1.7, 0.4],\n",
              "        [4.6, 3.4, 1.4, 0.3],\n",
              "        [5. , 3.4, 1.5, 0.2],\n",
              "        [4.4, 2.9, 1.4, 0.2],\n",
              "        [4.9, 3.1, 1.5, 0.1],\n",
              "        [5.4, 3.7, 1.5, 0.2],\n",
              "        [4.8, 3.4, 1.6, 0.2],\n",
              "        [4.8, 3. , 1.4, 0.1],\n",
              "        [4.3, 3. , 1.1, 0.1],\n",
              "        [5.8, 4. , 1.2, 0.2],\n",
              "        [5.7, 4.4, 1.5, 0.4],\n",
              "        [5.4, 3.9, 1.3, 0.4],\n",
              "        [5.1, 3.5, 1.4, 0.3],\n",
              "        [5.7, 3.8, 1.7, 0.3],\n",
              "        [5.1, 3.8, 1.5, 0.3],\n",
              "        [5.4, 3.4, 1.7, 0.2],\n",
              "        [5.1, 3.7, 1.5, 0.4],\n",
              "        [4.6, 3.6, 1. , 0.2],\n",
              "        [5.1, 3.3, 1.7, 0.5],\n",
              "        [4.8, 3.4, 1.9, 0.2],\n",
              "        [5. , 3. , 1.6, 0.2],\n",
              "        [5. , 3.4, 1.6, 0.4],\n",
              "        [5.2, 3.5, 1.5, 0.2],\n",
              "        [5.2, 3.4, 1.4, 0.2],\n",
              "        [4.7, 3.2, 1.6, 0.2],\n",
              "        [4.8, 3.1, 1.6, 0.2],\n",
              "        [5.4, 3.4, 1.5, 0.4],\n",
              "        [5.2, 4.1, 1.5, 0.1],\n",
              "        [5.5, 4.2, 1.4, 0.2],\n",
              "        [4.9, 3.1, 1.5, 0.2],\n",
              "        [5. , 3.2, 1.2, 0.2],\n",
              "        [5.5, 3.5, 1.3, 0.2],\n",
              "        [4.9, 3.6, 1.4, 0.1],\n",
              "        [4.4, 3. , 1.3, 0.2],\n",
              "        [5.1, 3.4, 1.5, 0.2],\n",
              "        [5. , 3.5, 1.3, 0.3],\n",
              "        [4.5, 2.3, 1.3, 0.3],\n",
              "        [4.4, 3.2, 1.3, 0.2],\n",
              "        [5. , 3.5, 1.6, 0.6],\n",
              "        [5.1, 3.8, 1.9, 0.4],\n",
              "        [4.8, 3. , 1.4, 0.3],\n",
              "        [5.1, 3.8, 1.6, 0.2],\n",
              "        [4.6, 3.2, 1.4, 0.2],\n",
              "        [5.3, 3.7, 1.5, 0.2],\n",
              "        [5. , 3.3, 1.4, 0.2],\n",
              "        [7. , 3.2, 4.7, 1.4],\n",
              "        [6.4, 3.2, 4.5, 1.5],\n",
              "        [6.9, 3.1, 4.9, 1.5],\n",
              "        [5.5, 2.3, 4. , 1.3],\n",
              "        [6.5, 2.8, 4.6, 1.5],\n",
              "        [5.7, 2.8, 4.5, 1.3],\n",
              "        [6.3, 3.3, 4.7, 1.6],\n",
              "        [4.9, 2.4, 3.3, 1. ],\n",
              "        [6.6, 2.9, 4.6, 1.3],\n",
              "        [5.2, 2.7, 3.9, 1.4],\n",
              "        [5. , 2. , 3.5, 1. ],\n",
              "        [5.9, 3. , 4.2, 1.5],\n",
              "        [6. , 2.2, 4. , 1. ],\n",
              "        [6.1, 2.9, 4.7, 1.4],\n",
              "        [5.6, 2.9, 3.6, 1.3],\n",
              "        [6.7, 3.1, 4.4, 1.4],\n",
              "        [5.6, 3. , 4.5, 1.5],\n",
              "        [5.8, 2.7, 4.1, 1. ],\n",
              "        [6.2, 2.2, 4.5, 1.5],\n",
              "        [5.6, 2.5, 3.9, 1.1],\n",
              "        [5.9, 3.2, 4.8, 1.8],\n",
              "        [6.1, 2.8, 4. , 1.3],\n",
              "        [6.3, 2.5, 4.9, 1.5],\n",
              "        [6.1, 2.8, 4.7, 1.2],\n",
              "        [6.4, 2.9, 4.3, 1.3],\n",
              "        [6.6, 3. , 4.4, 1.4],\n",
              "        [6.8, 2.8, 4.8, 1.4],\n",
              "        [6.7, 3. , 5. , 1.7],\n",
              "        [6. , 2.9, 4.5, 1.5],\n",
              "        [5.7, 2.6, 3.5, 1. ],\n",
              "        [5.5, 2.4, 3.8, 1.1],\n",
              "        [5.5, 2.4, 3.7, 1. ],\n",
              "        [5.8, 2.7, 3.9, 1.2],\n",
              "        [6. , 2.7, 5.1, 1.6],\n",
              "        [5.4, 3. , 4.5, 1.5],\n",
              "        [6. , 3.4, 4.5, 1.6],\n",
              "        [6.7, 3.1, 4.7, 1.5],\n",
              "        [6.3, 2.3, 4.4, 1.3],\n",
              "        [5.6, 3. , 4.1, 1.3],\n",
              "        [5.5, 2.5, 4. , 1.3],\n",
              "        [5.5, 2.6, 4.4, 1.2],\n",
              "        [6.1, 3. , 4.6, 1.4],\n",
              "        [5.8, 2.6, 4. , 1.2],\n",
              "        [5. , 2.3, 3.3, 1. ],\n",
              "        [5.6, 2.7, 4.2, 1.3],\n",
              "        [5.7, 3. , 4.2, 1.2],\n",
              "        [5.7, 2.9, 4.2, 1.3],\n",
              "        [6.2, 2.9, 4.3, 1.3],\n",
              "        [5.1, 2.5, 3. , 1.1],\n",
              "        [5.7, 2.8, 4.1, 1.3],\n",
              "        [6.3, 3.3, 6. , 2.5],\n",
              "        [5.8, 2.7, 5.1, 1.9],\n",
              "        [7.1, 3. , 5.9, 2.1],\n",
              "        [6.3, 2.9, 5.6, 1.8],\n",
              "        [6.5, 3. , 5.8, 2.2],\n",
              "        [7.6, 3. , 6.6, 2.1],\n",
              "        [4.9, 2.5, 4.5, 1.7],\n",
              "        [7.3, 2.9, 6.3, 1.8],\n",
              "        [6.7, 2.5, 5.8, 1.8],\n",
              "        [7.2, 3.6, 6.1, 2.5],\n",
              "        [6.5, 3.2, 5.1, 2. ],\n",
              "        [6.4, 2.7, 5.3, 1.9],\n",
              "        [6.8, 3. , 5.5, 2.1],\n",
              "        [5.7, 2.5, 5. , 2. ],\n",
              "        [5.8, 2.8, 5.1, 2.4],\n",
              "        [6.4, 3.2, 5.3, 2.3],\n",
              "        [6.5, 3. , 5.5, 1.8],\n",
              "        [7.7, 3.8, 6.7, 2.2],\n",
              "        [7.7, 2.6, 6.9, 2.3],\n",
              "        [6. , 2.2, 5. , 1.5],\n",
              "        [6.9, 3.2, 5.7, 2.3],\n",
              "        [5.6, 2.8, 4.9, 2. ],\n",
              "        [7.7, 2.8, 6.7, 2. ],\n",
              "        [6.3, 2.7, 4.9, 1.8],\n",
              "        [6.7, 3.3, 5.7, 2.1],\n",
              "        [7.2, 3.2, 6. , 1.8],\n",
              "        [6.2, 2.8, 4.8, 1.8],\n",
              "        [6.1, 3. , 4.9, 1.8],\n",
              "        [6.4, 2.8, 5.6, 2.1],\n",
              "        [7.2, 3. , 5.8, 1.6],\n",
              "        [7.4, 2.8, 6.1, 1.9],\n",
              "        [7.9, 3.8, 6.4, 2. ],\n",
              "        [6.4, 2.8, 5.6, 2.2],\n",
              "        [6.3, 2.8, 5.1, 1.5],\n",
              "        [6.1, 2.6, 5.6, 1.4],\n",
              "        [7.7, 3. , 6.1, 2.3],\n",
              "        [6.3, 3.4, 5.6, 2.4],\n",
              "        [6.4, 3.1, 5.5, 1.8],\n",
              "        [6. , 3. , 4.8, 1.8],\n",
              "        [6.9, 3.1, 5.4, 2.1],\n",
              "        [6.7, 3.1, 5.6, 2.4],\n",
              "        [6.9, 3.1, 5.1, 2.3],\n",
              "        [5.8, 2.7, 5.1, 1.9],\n",
              "        [6.8, 3.2, 5.9, 2.3],\n",
              "        [6.7, 3.3, 5.7, 2.5],\n",
              "        [6.7, 3. , 5.2, 2.3],\n",
              "        [6.3, 2.5, 5. , 1.9],\n",
              "        [6.5, 3. , 5.2, 2. ],\n",
              "        [6.2, 3.4, 5.4, 2.3],\n",
              "        [5.9, 3. , 5.1, 1.8]]),\n",
              " 'feature_names': ['sepal length (cm)',\n",
              "  'sepal width (cm)',\n",
              "  'petal length (cm)',\n",
              "  'petal width (cm)'],\n",
              " 'filename': '/usr/local/lib/python3.6/dist-packages/sklearn/datasets/data/iris.csv',\n",
              " 'target': array([0, 0, 0, 0, 0, 0, 0, 0, 0, 0, 0, 0, 0, 0, 0, 0, 0, 0, 0, 0, 0, 0,\n",
              "        0, 0, 0, 0, 0, 0, 0, 0, 0, 0, 0, 0, 0, 0, 0, 0, 0, 0, 0, 0, 0, 0,\n",
              "        0, 0, 0, 0, 0, 0, 1, 1, 1, 1, 1, 1, 1, 1, 1, 1, 1, 1, 1, 1, 1, 1,\n",
              "        1, 1, 1, 1, 1, 1, 1, 1, 1, 1, 1, 1, 1, 1, 1, 1, 1, 1, 1, 1, 1, 1,\n",
              "        1, 1, 1, 1, 1, 1, 1, 1, 1, 1, 1, 1, 2, 2, 2, 2, 2, 2, 2, 2, 2, 2,\n",
              "        2, 2, 2, 2, 2, 2, 2, 2, 2, 2, 2, 2, 2, 2, 2, 2, 2, 2, 2, 2, 2, 2,\n",
              "        2, 2, 2, 2, 2, 2, 2, 2, 2, 2, 2, 2, 2, 2, 2, 2, 2, 2]),\n",
              " 'target_names': array(['setosa', 'versicolor', 'virginica'], dtype='<U10')}"
            ]
          },
          "metadata": {
            "tags": []
          },
          "execution_count": 22
        }
      ]
    },
    {
      "cell_type": "markdown",
      "metadata": {
        "id": "HERt3drbhX0i"
      },
      "source": [
        "### Get features and label from the dataset in separate variable\n",
        "- you can get the features using .data method\n",
        "- you can get the features using .target method"
      ]
    },
    {
      "cell_type": "code",
      "metadata": {
        "id": "0cV-_qHAHyvE"
      },
      "source": [
        "X = iris.data\r\n",
        "y = iris.target"
      ],
      "execution_count": 86,
      "outputs": []
    },
    {
      "cell_type": "code",
      "metadata": {
        "colab": {
          "base_uri": "https://localhost:8080/"
        },
        "id": "2KGwW6UspF7s",
        "outputId": "bbd9287a-34a6-4c61-9b53-fe4970a08751"
      },
      "source": [
        "iris.feature_names"
      ],
      "execution_count": 87,
      "outputs": [
        {
          "output_type": "execute_result",
          "data": {
            "text/plain": [
              "['sepal length (cm)',\n",
              " 'sepal width (cm)',\n",
              " 'petal length (cm)',\n",
              " 'petal width (cm)']"
            ]
          },
          "metadata": {
            "tags": []
          },
          "execution_count": 87
        }
      ]
    },
    {
      "cell_type": "code",
      "metadata": {
        "colab": {
          "base_uri": "https://localhost:8080/"
        },
        "id": "hr2j4xyKptuJ",
        "outputId": "5ccc9916-54ba-492a-bb8d-ae2d238763b7"
      },
      "source": [
        "iris.target_names"
      ],
      "execution_count": 88,
      "outputs": [
        {
          "output_type": "execute_result",
          "data": {
            "text/plain": [
              "array(['setosa', 'versicolor', 'virginica'], dtype='<U10')"
            ]
          },
          "metadata": {
            "tags": []
          },
          "execution_count": 88
        }
      ]
    },
    {
      "cell_type": "markdown",
      "metadata": {
        "id": "Qg1A2lkUjFak"
      },
      "source": [
        "## Question 3"
      ]
    },
    {
      "cell_type": "markdown",
      "metadata": {
        "id": "3YErwYLCH0N_"
      },
      "source": [
        "### Create train and test data\n",
        "- use train_test_split to get train and test set\n",
        "- set a random_state\n",
        "- test_size: 0.25"
      ]
    },
    {
      "cell_type": "code",
      "metadata": {
        "id": "F0W5U2b3l3Dq"
      },
      "source": [
        "from sklearn.model_selection import train_test_split\r\n",
        "X_train, X_test, y_train, y_test = train_test_split(\r\n",
        "X, y, test_size=0.25,random_state = 42)"
      ],
      "execution_count": 89,
      "outputs": []
    },
    {
      "cell_type": "code",
      "metadata": {
        "colab": {
          "base_uri": "https://localhost:8080/"
        },
        "id": "kVgExsTqozvL",
        "outputId": "1c75e8f8-8200-4131-d503-95c3cb07880f"
      },
      "source": [
        "X_train[0:3,:]"
      ],
      "execution_count": 90,
      "outputs": [
        {
          "output_type": "execute_result",
          "data": {
            "text/plain": [
              "array([[6.8, 3.2, 5.9, 2.3],\n",
              "       [5.8, 2.7, 5.1, 1.9],\n",
              "       [5.7, 2.8, 4.1, 1.3]])"
            ]
          },
          "metadata": {
            "tags": []
          },
          "execution_count": 90
        }
      ]
    },
    {
      "cell_type": "markdown",
      "metadata": {
        "id": "g0KVP17Ozaix"
      },
      "source": [
        "## Question 4"
      ]
    },
    {
      "cell_type": "markdown",
      "metadata": {
        "id": "SIjqxbhWv1zv"
      },
      "source": [
        "### One-hot encode the labels\n",
        "- convert class vectors (integers) to binary class matrix\n",
        "- convert labels\n",
        "- number of classes: 3\n",
        "- we are doing this to use categorical_crossentropy as loss"
      ]
    },
    {
      "cell_type": "code",
      "metadata": {
        "id": "h62u_lGQnQza"
      },
      "source": [
        "# Convert class vectors or integers to binary class matrix\r\n",
        "y_train = tf.keras.utils.to_categorical(y_train, num_classes=3)\r\n",
        "y_test = tf.keras.utils.to_categorical(y_test, num_classes=3)\r\n",
        "## since tensor flow is already intilaized in step 2, else following code : \r\n",
        "### from tensorflow.keras.utils import to_categorical\r\n",
        "#### y_train = to_categorical(y_train, num_classes=3)\r\n",
        "##### y_test = to_categorical(y_test, num_classes=3)"
      ],
      "execution_count": 91,
      "outputs": []
    },
    {
      "cell_type": "code",
      "metadata": {
        "colab": {
          "base_uri": "https://localhost:8080/"
        },
        "id": "5R_FgyZPrVUs",
        "outputId": "f15411c8-68d7-4d2a-d165-3018b0286412"
      },
      "source": [
        "y_train[0:3]\r\n",
        "# target values converted to 0 - 001 , 1 - 010 and 2 as 100"
      ],
      "execution_count": 92,
      "outputs": [
        {
          "output_type": "execute_result",
          "data": {
            "text/plain": [
              "array([[0., 0., 1.],\n",
              "       [0., 0., 1.],\n",
              "       [0., 1., 0.]], dtype=float32)"
            ]
          },
          "metadata": {
            "tags": []
          },
          "execution_count": 92
        }
      ]
    },
    {
      "cell_type": "markdown",
      "metadata": {
        "id": "ovjLyYzWkO9s"
      },
      "source": [
        "## Question 5"
      ]
    },
    {
      "cell_type": "markdown",
      "metadata": {
        "id": "hbIFzoPNSyYo"
      },
      "source": [
        "### Initialize a sequential model\n",
        "- Define a sequential model"
      ]
    },
    {
      "cell_type": "code",
      "metadata": {
        "id": "4FvSbf1UjHtl"
      },
      "source": [
        "from tensorflow.keras.models import Sequential\r\n",
        "from tensorflow.keras.layers import Dense\r\n",
        "model = Sequential()"
      ],
      "execution_count": 93,
      "outputs": []
    },
    {
      "cell_type": "code",
      "metadata": {
        "id": "Ai9NaKu8uExM"
      },
      "source": [
        "model=tf.keras.Sequential() #or\r\n",
        "model.add(tf.keras.layers.Dense(3,activation=\"softmax\",input_shape=(4,)))"
      ],
      "execution_count": 68,
      "outputs": []
    },
    {
      "cell_type": "markdown",
      "metadata": {
        "id": "dGMy999vlacX"
      },
      "source": [
        "## Question 6"
      ]
    },
    {
      "cell_type": "markdown",
      "metadata": {
        "id": "72ibK5Jxm8iL"
      },
      "source": [
        "### Add a layer\n",
        "- Use Dense Layer  with input shape of 4 (according to the feature set) and number of outputs set to 3\n",
        "- Apply Softmax on Dense Layer outputs"
      ]
    },
    {
      "cell_type": "code",
      "metadata": {
        "id": "uZKrBNSRm_o9"
      },
      "source": [
        "model.add(Dense(3,input_shape=(4,), activation='softmax'))"
      ],
      "execution_count": 94,
      "outputs": []
    },
    {
      "cell_type": "markdown",
      "metadata": {
        "id": "i4uiTH8plmNX"
      },
      "source": [
        "## Question 7"
      ]
    },
    {
      "cell_type": "markdown",
      "metadata": {
        "id": "yJL8n8vcSyYz"
      },
      "source": [
        "### Compile the model\n",
        "- Use SGD as Optimizer\n",
        "- Use categorical_crossentropy as loss function\n",
        "- Use accuracy as metrics"
      ]
    },
    {
      "cell_type": "code",
      "metadata": {
        "id": "Tc_-fjIEk1ve"
      },
      "source": [
        "model.compile(optimizer='sgd', loss='categorical_crossentropy', metrics=['accuracy'])"
      ],
      "execution_count": 95,
      "outputs": []
    },
    {
      "cell_type": "markdown",
      "metadata": {
        "id": "sihIGbRll_jT"
      },
      "source": [
        "## Question 8"
      ]
    },
    {
      "cell_type": "markdown",
      "metadata": {
        "id": "54ZZCfNGlu0i"
      },
      "source": [
        "### Summarize the model\n",
        "- Check model layers\n",
        "- Understand number of trainable parameters"
      ]
    },
    {
      "cell_type": "code",
      "metadata": {
        "id": "elER3F_4ln8n",
        "colab": {
          "base_uri": "https://localhost:8080/"
        },
        "outputId": "683438ab-1e57-4cdb-944f-79cbcc18029e"
      },
      "source": [
        "model.summary()"
      ],
      "execution_count": 96,
      "outputs": [
        {
          "output_type": "stream",
          "text": [
            "Model: \"sequential_7\"\n",
            "_________________________________________________________________\n",
            "Layer (type)                 Output Shape              Param #   \n",
            "=================================================================\n",
            "dense_7 (Dense)              (None, 3)                 15        \n",
            "=================================================================\n",
            "Total params: 15\n",
            "Trainable params: 15\n",
            "Non-trainable params: 0\n",
            "_________________________________________________________________\n"
          ],
          "name": "stdout"
        }
      ]
    },
    {
      "cell_type": "markdown",
      "metadata": {
        "id": "2PiP7j3Vmj4p"
      },
      "source": [
        "## Question 9"
      ]
    },
    {
      "cell_type": "markdown",
      "metadata": {
        "id": "rWdbfFCXmCHt"
      },
      "source": [
        "### Fit the model\n",
        "- Give train data as training features and labels\n",
        "- Epochs: 100\n",
        "- Give validation data as testing features and labels"
      ]
    },
    {
      "cell_type": "code",
      "metadata": {
        "id": "cO1c-5tjmBVZ",
        "colab": {
          "base_uri": "https://localhost:8080/"
        },
        "outputId": "a5041cf1-db54-4fa4-b6fa-823223f4e406"
      },
      "source": [
        "model.fit(X_train, y_train, validation_data=(X_test, y_test), epochs=100)"
      ],
      "execution_count": 97,
      "outputs": [
        {
          "output_type": "stream",
          "text": [
            "Epoch 1/100\n",
            "4/4 [==============================] - 1s 75ms/step - loss: 3.0822 - accuracy: 0.2970 - val_loss: 1.3955 - val_accuracy: 0.4474\n",
            "Epoch 2/100\n",
            "4/4 [==============================] - 0s 14ms/step - loss: 1.6713 - accuracy: 0.2967 - val_loss: 1.1661 - val_accuracy: 0.1579\n",
            "Epoch 3/100\n",
            "4/4 [==============================] - 0s 15ms/step - loss: 1.3372 - accuracy: 0.0692 - val_loss: 1.1453 - val_accuracy: 0.2105\n",
            "Epoch 4/100\n",
            "4/4 [==============================] - 0s 14ms/step - loss: 1.2676 - accuracy: 0.2567 - val_loss: 1.1190 - val_accuracy: 0.2632\n",
            "Epoch 5/100\n",
            "4/4 [==============================] - 0s 14ms/step - loss: 1.2207 - accuracy: 0.2734 - val_loss: 1.0914 - val_accuracy: 0.1842\n",
            "Epoch 6/100\n",
            "4/4 [==============================] - 0s 13ms/step - loss: 1.1635 - accuracy: 0.3122 - val_loss: 1.0587 - val_accuracy: 0.1842\n",
            "Epoch 7/100\n",
            "4/4 [==============================] - 0s 13ms/step - loss: 1.1245 - accuracy: 0.2686 - val_loss: 1.0371 - val_accuracy: 0.3158\n",
            "Epoch 8/100\n",
            "4/4 [==============================] - 0s 15ms/step - loss: 1.0782 - accuracy: 0.2356 - val_loss: 1.0226 - val_accuracy: 0.2895\n",
            "Epoch 9/100\n",
            "4/4 [==============================] - 0s 15ms/step - loss: 1.0463 - accuracy: 0.2317 - val_loss: 1.0122 - val_accuracy: 0.2895\n",
            "Epoch 10/100\n",
            "4/4 [==============================] - 0s 13ms/step - loss: 1.0485 - accuracy: 0.2115 - val_loss: 0.9905 - val_accuracy: 0.3158\n",
            "Epoch 11/100\n",
            "4/4 [==============================] - 0s 14ms/step - loss: 1.0078 - accuracy: 0.2271 - val_loss: 0.9249 - val_accuracy: 0.3158\n",
            "Epoch 12/100\n",
            "4/4 [==============================] - 0s 13ms/step - loss: 1.0066 - accuracy: 0.2435 - val_loss: 0.9141 - val_accuracy: 0.3158\n",
            "Epoch 13/100\n",
            "4/4 [==============================] - 0s 13ms/step - loss: 0.9759 - accuracy: 0.2188 - val_loss: 0.8909 - val_accuracy: 0.3684\n",
            "Epoch 14/100\n",
            "4/4 [==============================] - 0s 15ms/step - loss: 0.9666 - accuracy: 0.2693 - val_loss: 0.8791 - val_accuracy: 0.3684\n",
            "Epoch 15/100\n",
            "4/4 [==============================] - 0s 58ms/step - loss: 0.9403 - accuracy: 0.2812 - val_loss: 0.8438 - val_accuracy: 0.5526\n",
            "Epoch 16/100\n",
            "4/4 [==============================] - 0s 13ms/step - loss: 0.9388 - accuracy: 0.4216 - val_loss: 0.8050 - val_accuracy: 0.6053\n",
            "Epoch 17/100\n",
            "4/4 [==============================] - 0s 15ms/step - loss: 0.9109 - accuracy: 0.5415 - val_loss: 0.7914 - val_accuracy: 0.6053\n",
            "Epoch 18/100\n",
            "4/4 [==============================] - 0s 14ms/step - loss: 0.8684 - accuracy: 0.5159 - val_loss: 0.7816 - val_accuracy: 0.6842\n",
            "Epoch 19/100\n",
            "4/4 [==============================] - 0s 14ms/step - loss: 0.8590 - accuracy: 0.5616 - val_loss: 0.7668 - val_accuracy: 0.6842\n",
            "Epoch 20/100\n",
            "4/4 [==============================] - 0s 15ms/step - loss: 0.8533 - accuracy: 0.5437 - val_loss: 0.7426 - val_accuracy: 0.7895\n",
            "Epoch 21/100\n",
            "4/4 [==============================] - 0s 14ms/step - loss: 0.8475 - accuracy: 0.5929 - val_loss: 0.7339 - val_accuracy: 0.7632\n",
            "Epoch 22/100\n",
            "4/4 [==============================] - 0s 15ms/step - loss: 0.8076 - accuracy: 0.6408 - val_loss: 0.7127 - val_accuracy: 0.7895\n",
            "Epoch 23/100\n",
            "4/4 [==============================] - 0s 14ms/step - loss: 0.8285 - accuracy: 0.6085 - val_loss: 0.6930 - val_accuracy: 0.8158\n",
            "Epoch 24/100\n",
            "4/4 [==============================] - 0s 15ms/step - loss: 0.7911 - accuracy: 0.6028 - val_loss: 0.6821 - val_accuracy: 0.8158\n",
            "Epoch 25/100\n",
            "4/4 [==============================] - 0s 14ms/step - loss: 0.7674 - accuracy: 0.6533 - val_loss: 0.6869 - val_accuracy: 0.7632\n",
            "Epoch 26/100\n",
            "4/4 [==============================] - 0s 14ms/step - loss: 0.7716 - accuracy: 0.6164 - val_loss: 0.6603 - val_accuracy: 0.8158\n",
            "Epoch 27/100\n",
            "4/4 [==============================] - 0s 15ms/step - loss: 0.7740 - accuracy: 0.6405 - val_loss: 0.6771 - val_accuracy: 0.7632\n",
            "Epoch 28/100\n",
            "4/4 [==============================] - 0s 14ms/step - loss: 0.7422 - accuracy: 0.6402 - val_loss: 0.6572 - val_accuracy: 0.7632\n",
            "Epoch 29/100\n",
            "4/4 [==============================] - 0s 15ms/step - loss: 0.7509 - accuracy: 0.6150 - val_loss: 0.6279 - val_accuracy: 0.8158\n",
            "Epoch 30/100\n",
            "4/4 [==============================] - 0s 13ms/step - loss: 0.7208 - accuracy: 0.6354 - val_loss: 0.6125 - val_accuracy: 0.8421\n",
            "Epoch 31/100\n",
            "4/4 [==============================] - 0s 16ms/step - loss: 0.7269 - accuracy: 0.7146 - val_loss: 0.6184 - val_accuracy: 0.7895\n",
            "Epoch 32/100\n",
            "4/4 [==============================] - 0s 14ms/step - loss: 0.7256 - accuracy: 0.6497 - val_loss: 0.6278 - val_accuracy: 0.7632\n",
            "Epoch 33/100\n",
            "4/4 [==============================] - 0s 13ms/step - loss: 0.7261 - accuracy: 0.6159 - val_loss: 0.6110 - val_accuracy: 0.7895\n",
            "Epoch 34/100\n",
            "4/4 [==============================] - 0s 14ms/step - loss: 0.7024 - accuracy: 0.6618 - val_loss: 0.5923 - val_accuracy: 0.7895\n",
            "Epoch 35/100\n",
            "4/4 [==============================] - 0s 13ms/step - loss: 0.6862 - accuracy: 0.6509 - val_loss: 0.5839 - val_accuracy: 0.8158\n",
            "Epoch 36/100\n",
            "4/4 [==============================] - 0s 14ms/step - loss: 0.6857 - accuracy: 0.6768 - val_loss: 0.5854 - val_accuracy: 0.7895\n",
            "Epoch 37/100\n",
            "4/4 [==============================] - 0s 14ms/step - loss: 0.6886 - accuracy: 0.6586 - val_loss: 0.5694 - val_accuracy: 0.8158\n",
            "Epoch 38/100\n",
            "4/4 [==============================] - 0s 14ms/step - loss: 0.6697 - accuracy: 0.7052 - val_loss: 0.5720 - val_accuracy: 0.7895\n",
            "Epoch 39/100\n",
            "4/4 [==============================] - 0s 14ms/step - loss: 0.6540 - accuracy: 0.6722 - val_loss: 0.5687 - val_accuracy: 0.7895\n",
            "Epoch 40/100\n",
            "4/4 [==============================] - 0s 20ms/step - loss: 0.6504 - accuracy: 0.6637 - val_loss: 0.5688 - val_accuracy: 0.7632\n",
            "Epoch 41/100\n",
            "4/4 [==============================] - 0s 15ms/step - loss: 0.6696 - accuracy: 0.6445 - val_loss: 0.5492 - val_accuracy: 0.7895\n",
            "Epoch 42/100\n",
            "4/4 [==============================] - 0s 13ms/step - loss: 0.6348 - accuracy: 0.7259 - val_loss: 0.5490 - val_accuracy: 0.7895\n",
            "Epoch 43/100\n",
            "4/4 [==============================] - 0s 14ms/step - loss: 0.6468 - accuracy: 0.6527 - val_loss: 0.5487 - val_accuracy: 0.7632\n",
            "Epoch 44/100\n",
            "4/4 [==============================] - 0s 14ms/step - loss: 0.6435 - accuracy: 0.6555 - val_loss: 0.5244 - val_accuracy: 0.8684\n",
            "Epoch 45/100\n",
            "4/4 [==============================] - 0s 15ms/step - loss: 0.6513 - accuracy: 0.7107 - val_loss: 0.5291 - val_accuracy: 0.7895\n",
            "Epoch 46/100\n",
            "4/4 [==============================] - 0s 15ms/step - loss: 0.6386 - accuracy: 0.6775 - val_loss: 0.5267 - val_accuracy: 0.7895\n",
            "Epoch 47/100\n",
            "4/4 [==============================] - 0s 14ms/step - loss: 0.6232 - accuracy: 0.6693 - val_loss: 0.5112 - val_accuracy: 0.8421\n",
            "Epoch 48/100\n",
            "4/4 [==============================] - 0s 15ms/step - loss: 0.6161 - accuracy: 0.7568 - val_loss: 0.5073 - val_accuracy: 0.8684\n",
            "Epoch 49/100\n",
            "4/4 [==============================] - 0s 15ms/step - loss: 0.6171 - accuracy: 0.7286 - val_loss: 0.5056 - val_accuracy: 0.8421\n",
            "Epoch 50/100\n",
            "4/4 [==============================] - 0s 14ms/step - loss: 0.6323 - accuracy: 0.7260 - val_loss: 0.5152 - val_accuracy: 0.7632\n",
            "Epoch 51/100\n",
            "4/4 [==============================] - 0s 14ms/step - loss: 0.6228 - accuracy: 0.6543 - val_loss: 0.5154 - val_accuracy: 0.7632\n",
            "Epoch 52/100\n",
            "4/4 [==============================] - 0s 13ms/step - loss: 0.5916 - accuracy: 0.6929 - val_loss: 0.4917 - val_accuracy: 0.8684\n",
            "Epoch 53/100\n",
            "4/4 [==============================] - 0s 14ms/step - loss: 0.6243 - accuracy: 0.7634 - val_loss: 0.4944 - val_accuracy: 0.7895\n",
            "Epoch 54/100\n",
            "4/4 [==============================] - 0s 14ms/step - loss: 0.5882 - accuracy: 0.7330 - val_loss: 0.4908 - val_accuracy: 0.7895\n",
            "Epoch 55/100\n",
            "4/4 [==============================] - 0s 15ms/step - loss: 0.5974 - accuracy: 0.6719 - val_loss: 0.4889 - val_accuracy: 0.7895\n",
            "Epoch 56/100\n",
            "4/4 [==============================] - 0s 14ms/step - loss: 0.5886 - accuracy: 0.7076 - val_loss: 0.4862 - val_accuracy: 0.7895\n",
            "Epoch 57/100\n",
            "4/4 [==============================] - 0s 16ms/step - loss: 0.5947 - accuracy: 0.6842 - val_loss: 0.4784 - val_accuracy: 0.7895\n",
            "Epoch 58/100\n",
            "4/4 [==============================] - 0s 15ms/step - loss: 0.5884 - accuracy: 0.7226 - val_loss: 0.4793 - val_accuracy: 0.7895\n",
            "Epoch 59/100\n",
            "4/4 [==============================] - 0s 14ms/step - loss: 0.5718 - accuracy: 0.7211 - val_loss: 0.4724 - val_accuracy: 0.8158\n",
            "Epoch 60/100\n",
            "4/4 [==============================] - 0s 14ms/step - loss: 0.5825 - accuracy: 0.7308 - val_loss: 0.4698 - val_accuracy: 0.8158\n",
            "Epoch 61/100\n",
            "4/4 [==============================] - 0s 56ms/step - loss: 0.5901 - accuracy: 0.7256 - val_loss: 0.4687 - val_accuracy: 0.7895\n",
            "Epoch 62/100\n",
            "4/4 [==============================] - 0s 16ms/step - loss: 0.5698 - accuracy: 0.7507 - val_loss: 0.4577 - val_accuracy: 0.8684\n",
            "Epoch 63/100\n",
            "4/4 [==============================] - 0s 14ms/step - loss: 0.5632 - accuracy: 0.7872 - val_loss: 0.4623 - val_accuracy: 0.8158\n",
            "Epoch 64/100\n",
            "4/4 [==============================] - 0s 14ms/step - loss: 0.5734 - accuracy: 0.7350 - val_loss: 0.4602 - val_accuracy: 0.8158\n",
            "Epoch 65/100\n",
            "4/4 [==============================] - 0s 14ms/step - loss: 0.5753 - accuracy: 0.7193 - val_loss: 0.4600 - val_accuracy: 0.7895\n",
            "Epoch 66/100\n",
            "4/4 [==============================] - 0s 14ms/step - loss: 0.5734 - accuracy: 0.7033 - val_loss: 0.4503 - val_accuracy: 0.8684\n",
            "Epoch 67/100\n",
            "4/4 [==============================] - 0s 14ms/step - loss: 0.5484 - accuracy: 0.7862 - val_loss: 0.4672 - val_accuracy: 0.7632\n",
            "Epoch 68/100\n",
            "4/4 [==============================] - 0s 16ms/step - loss: 0.5351 - accuracy: 0.7341 - val_loss: 0.4666 - val_accuracy: 0.7632\n",
            "Epoch 69/100\n",
            "4/4 [==============================] - 0s 15ms/step - loss: 0.5663 - accuracy: 0.6993 - val_loss: 0.4597 - val_accuracy: 0.7632\n",
            "Epoch 70/100\n",
            "4/4 [==============================] - 0s 14ms/step - loss: 0.5638 - accuracy: 0.7101 - val_loss: 0.4485 - val_accuracy: 0.7895\n",
            "Epoch 71/100\n",
            "4/4 [==============================] - 0s 16ms/step - loss: 0.5596 - accuracy: 0.7369 - val_loss: 0.4490 - val_accuracy: 0.7895\n",
            "Epoch 72/100\n",
            "4/4 [==============================] - 0s 15ms/step - loss: 0.5550 - accuracy: 0.7339 - val_loss: 0.4613 - val_accuracy: 0.7632\n",
            "Epoch 73/100\n",
            "4/4 [==============================] - 0s 15ms/step - loss: 0.5583 - accuracy: 0.7049 - val_loss: 0.4560 - val_accuracy: 0.7632\n",
            "Epoch 74/100\n",
            "4/4 [==============================] - 0s 15ms/step - loss: 0.5393 - accuracy: 0.7324 - val_loss: 0.4320 - val_accuracy: 0.8684\n",
            "Epoch 75/100\n",
            "4/4 [==============================] - 0s 15ms/step - loss: 0.5369 - accuracy: 0.8156 - val_loss: 0.4411 - val_accuracy: 0.7895\n",
            "Epoch 76/100\n",
            "4/4 [==============================] - 0s 14ms/step - loss: 0.5391 - accuracy: 0.7315 - val_loss: 0.4328 - val_accuracy: 0.8421\n",
            "Epoch 77/100\n",
            "4/4 [==============================] - 0s 14ms/step - loss: 0.5267 - accuracy: 0.7573 - val_loss: 0.4228 - val_accuracy: 0.8947\n",
            "Epoch 78/100\n",
            "4/4 [==============================] - 0s 19ms/step - loss: 0.5472 - accuracy: 0.7990 - val_loss: 0.4313 - val_accuracy: 0.8421\n",
            "Epoch 79/100\n",
            "4/4 [==============================] - 0s 14ms/step - loss: 0.5457 - accuracy: 0.7463 - val_loss: 0.4299 - val_accuracy: 0.8421\n",
            "Epoch 80/100\n",
            "4/4 [==============================] - 0s 16ms/step - loss: 0.5305 - accuracy: 0.7778 - val_loss: 0.4276 - val_accuracy: 0.8421\n",
            "Epoch 81/100\n",
            "4/4 [==============================] - 0s 15ms/step - loss: 0.5245 - accuracy: 0.7851 - val_loss: 0.4331 - val_accuracy: 0.7632\n",
            "Epoch 82/100\n",
            "4/4 [==============================] - 0s 14ms/step - loss: 0.5481 - accuracy: 0.7374 - val_loss: 0.4252 - val_accuracy: 0.8421\n",
            "Epoch 83/100\n",
            "4/4 [==============================] - 0s 15ms/step - loss: 0.5147 - accuracy: 0.7903 - val_loss: 0.4184 - val_accuracy: 0.8421\n",
            "Epoch 84/100\n",
            "4/4 [==============================] - 0s 15ms/step - loss: 0.5073 - accuracy: 0.8027 - val_loss: 0.4265 - val_accuracy: 0.7632\n",
            "Epoch 85/100\n",
            "4/4 [==============================] - 0s 15ms/step - loss: 0.5117 - accuracy: 0.7680 - val_loss: 0.4281 - val_accuracy: 0.7895\n",
            "Epoch 86/100\n",
            "4/4 [==============================] - 0s 14ms/step - loss: 0.5329 - accuracy: 0.7545 - val_loss: 0.4186 - val_accuracy: 0.8421\n",
            "Epoch 87/100\n",
            "4/4 [==============================] - 0s 14ms/step - loss: 0.5159 - accuracy: 0.7738 - val_loss: 0.4063 - val_accuracy: 0.8947\n",
            "Epoch 88/100\n",
            "4/4 [==============================] - 0s 14ms/step - loss: 0.4990 - accuracy: 0.8079 - val_loss: 0.4044 - val_accuracy: 0.8947\n",
            "Epoch 89/100\n",
            "4/4 [==============================] - 0s 17ms/step - loss: 0.5107 - accuracy: 0.8271 - val_loss: 0.4010 - val_accuracy: 0.8947\n",
            "Epoch 90/100\n",
            "4/4 [==============================] - 0s 15ms/step - loss: 0.4997 - accuracy: 0.8110 - val_loss: 0.4126 - val_accuracy: 0.8421\n",
            "Epoch 91/100\n",
            "4/4 [==============================] - 0s 14ms/step - loss: 0.5125 - accuracy: 0.7856 - val_loss: 0.4204 - val_accuracy: 0.7632\n",
            "Epoch 92/100\n",
            "4/4 [==============================] - 0s 15ms/step - loss: 0.5140 - accuracy: 0.7198 - val_loss: 0.4018 - val_accuracy: 0.8947\n",
            "Epoch 93/100\n",
            "4/4 [==============================] - 0s 14ms/step - loss: 0.5217 - accuracy: 0.8083 - val_loss: 0.4072 - val_accuracy: 0.8421\n",
            "Epoch 94/100\n",
            "4/4 [==============================] - 0s 15ms/step - loss: 0.5073 - accuracy: 0.8012 - val_loss: 0.4014 - val_accuracy: 0.8421\n",
            "Epoch 95/100\n",
            "4/4 [==============================] - 0s 14ms/step - loss: 0.5010 - accuracy: 0.8091 - val_loss: 0.3987 - val_accuracy: 0.8421\n",
            "Epoch 96/100\n",
            "4/4 [==============================] - 0s 14ms/step - loss: 0.5289 - accuracy: 0.8119 - val_loss: 0.3997 - val_accuracy: 0.8421\n",
            "Epoch 97/100\n",
            "4/4 [==============================] - 0s 17ms/step - loss: 0.5038 - accuracy: 0.8068 - val_loss: 0.3999 - val_accuracy: 0.8421\n",
            "Epoch 98/100\n",
            "4/4 [==============================] - 0s 20ms/step - loss: 0.4850 - accuracy: 0.8348 - val_loss: 0.4083 - val_accuracy: 0.8158\n",
            "Epoch 99/100\n",
            "4/4 [==============================] - 0s 16ms/step - loss: 0.4991 - accuracy: 0.7592 - val_loss: 0.3880 - val_accuracy: 0.8947\n",
            "Epoch 100/100\n",
            "4/4 [==============================] - 0s 14ms/step - loss: 0.4774 - accuracy: 0.8789 - val_loss: 0.3966 - val_accuracy: 0.8421\n"
          ],
          "name": "stdout"
        },
        {
          "output_type": "execute_result",
          "data": {
            "text/plain": [
              "<tensorflow.python.keras.callbacks.History at 0x7fa257a8c518>"
            ]
          },
          "metadata": {
            "tags": []
          },
          "execution_count": 97
        }
      ]
    },
    {
      "cell_type": "markdown",
      "metadata": {
        "id": "re9ItAR3yS3J"
      },
      "source": [
        "## Question 10"
      ]
    },
    {
      "cell_type": "markdown",
      "metadata": {
        "id": "liw0IFf9yVqH"
      },
      "source": [
        "### Make predictions\n",
        "- Predict labels on one row"
      ]
    },
    {
      "cell_type": "code",
      "metadata": {
        "id": "H5sBybi6mlLl",
        "colab": {
          "base_uri": "https://localhost:8080/"
        },
        "outputId": "818891b5-146a-4ac7-9872-3b3dc172f889"
      },
      "source": [
        "model.predict([[6.8, 3.2, 5.9, 2.1]])"
      ],
      "execution_count": 98,
      "outputs": [
        {
          "output_type": "execute_result",
          "data": {
            "text/plain": [
              "array([[0.01139732, 0.30202264, 0.68658006]], dtype=float32)"
            ]
          },
          "metadata": {
            "tags": []
          },
          "execution_count": 98
        }
      ]
    },
    {
      "cell_type": "code",
      "metadata": {
        "id": "9ooDSlkf0OXu"
      },
      "source": [
        "# Highest probability is class 3, which means the 4 input values are predicted class 3 with accuracy of 68%"
      ],
      "execution_count": null,
      "outputs": []
    },
    {
      "cell_type": "markdown",
      "metadata": {
        "id": "hSUgMq3m0bG7"
      },
      "source": [
        "### Compare the prediction with actual label\n",
        "- Print the same row as done in the previous step but of actual labels"
      ]
    },
    {
      "cell_type": "code",
      "metadata": {
        "id": "K5WbwVPyz-qQ",
        "colab": {
          "base_uri": "https://localhost:8080/"
        },
        "outputId": "24a4a215-c31a-4ba1-aece-6348bd93c60c"
      },
      "source": [
        "y_train[0,:]"
      ],
      "execution_count": 99,
      "outputs": [
        {
          "output_type": "execute_result",
          "data": {
            "text/plain": [
              "array([0., 0., 1.], dtype=float32)"
            ]
          },
          "metadata": {
            "tags": []
          },
          "execution_count": 99
        }
      ]
    },
    {
      "cell_type": "markdown",
      "metadata": {
        "id": "FrTKwbgE7NFT"
      },
      "source": [
        "\n",
        "\n",
        "---\n",
        "\n"
      ]
    },
    {
      "cell_type": "markdown",
      "metadata": {
        "id": "a1UBYPNp5Tn1"
      },
      "source": [
        "# Stock prices dataset\n",
        "The data is of tock exchange's stock listings for each trading day of 2010 to 2016.\n",
        "\n",
        "## Description\n",
        "A brief description of columns.\n",
        "- open: The opening market price of the equity symbol on the date\n",
        "- high: The highest market price of the equity symbol on the date\n",
        "- low: The lowest recorded market price of the equity symbol on the date\n",
        "- close: The closing recorded price of the equity symbol on the date\n",
        "- symbol: Symbol of the listed company\n",
        "- volume: Total traded volume of the equity symbol on the date\n",
        "- date: Date of record"
      ]
    },
    {
      "cell_type": "markdown",
      "metadata": {
        "id": "ctH_ZW5g-M3g"
      },
      "source": [
        "### Specifying the TensorFlow version\n",
        "Running `import tensorflow` will import the default version (currently 1.x). You can use 2.x by running a cell with the `tensorflow_version` magic **before** you run `import tensorflow`."
      ]
    },
    {
      "cell_type": "code",
      "metadata": {
        "id": "vQbdODpH-M3r"
      },
      "source": [
        "%tensorflow_version 2.x"
      ],
      "execution_count": 102,
      "outputs": []
    },
    {
      "cell_type": "markdown",
      "metadata": {
        "id": "nFQWH1tj-M38"
      },
      "source": [
        "### Import TensorFlow\n",
        "Once you have specified a version via this magic, you can run `import tensorflow` as normal and verify which version was imported as follows:"
      ]
    },
    {
      "cell_type": "code",
      "metadata": {
        "id": "Ho5n-xhd-M3_",
        "colab": {
          "base_uri": "https://localhost:8080/"
        },
        "outputId": "9f9f5a8d-acbb-43d2-e8e2-9ee19017da21"
      },
      "source": [
        "import tensorflow as tf\n",
        "print(tf.__version__)"
      ],
      "execution_count": 103,
      "outputs": [
        {
          "output_type": "stream",
          "text": [
            "2.4.0\n"
          ],
          "name": "stdout"
        }
      ]
    },
    {
      "cell_type": "markdown",
      "metadata": {
        "id": "tgkl0qu6-M4F"
      },
      "source": [
        "### Set random seed"
      ]
    },
    {
      "cell_type": "code",
      "metadata": {
        "id": "TKgTyuA3-M4G"
      },
      "source": [
        "tf.random.set_seed(42)"
      ],
      "execution_count": 104,
      "outputs": []
    },
    {
      "cell_type": "markdown",
      "metadata": {
        "id": "_88voqAH-O6J"
      },
      "source": [
        "## Question 1"
      ]
    },
    {
      "cell_type": "markdown",
      "metadata": {
        "id": "dRHCeJqP-evf"
      },
      "source": [
        "### Load the data\n",
        "- load the csv file and read it using pandas\n",
        "- file name is prices.csv"
      ]
    },
    {
      "cell_type": "code",
      "metadata": {
        "id": "cKVH5v7r-RmC"
      },
      "source": [
        "# run this cell to upload file if you are using google colab\n",
        "from google.colab import files\n",
        "files.upload()\n",
        "\n",
        "#time consuming porcess to load to virtual machine, hence skipped"
      ],
      "execution_count": null,
      "outputs": []
    },
    {
      "cell_type": "code",
      "metadata": {
        "colab": {
          "base_uri": "https://localhost:8080/"
        },
        "id": "gjnADXzD8cVh",
        "outputId": "faea1ce2-c296-4b23-c790-3720a48bf1a9"
      },
      "source": [
        "from google.colab import drive\n",
        "drive.mount('/content/drive')"
      ],
      "execution_count": 125,
      "outputs": [
        {
          "output_type": "stream",
          "text": [
            "Drive already mounted at /content/drive; to attempt to forcibly remount, call drive.mount(\"/content/drive\", force_remount=True).\n"
          ],
          "name": "stdout"
        }
      ]
    },
    {
      "cell_type": "code",
      "metadata": {
        "id": "OggGWzu78lSq"
      },
      "source": [
        "project_path = '/content/drive/My Drive/Colab Notebooks/'\r\n",
        "import pandas as pd\r\n",
        "df = pd.read_csv(project_path +'prices.csv')"
      ],
      "execution_count": 181,
      "outputs": []
    },
    {
      "cell_type": "code",
      "metadata": {
        "colab": {
          "base_uri": "https://localhost:8080/",
          "height": 514
        },
        "id": "YyjxxzCM-t5H",
        "outputId": "dbbd003f-60c5-49fb-d85e-a2719c61f1d9"
      },
      "source": [
        "df.head(15)"
      ],
      "execution_count": 182,
      "outputs": [
        {
          "output_type": "execute_result",
          "data": {
            "text/html": [
              "<div>\n",
              "<style scoped>\n",
              "    .dataframe tbody tr th:only-of-type {\n",
              "        vertical-align: middle;\n",
              "    }\n",
              "\n",
              "    .dataframe tbody tr th {\n",
              "        vertical-align: top;\n",
              "    }\n",
              "\n",
              "    .dataframe thead th {\n",
              "        text-align: right;\n",
              "    }\n",
              "</style>\n",
              "<table border=\"1\" class=\"dataframe\">\n",
              "  <thead>\n",
              "    <tr style=\"text-align: right;\">\n",
              "      <th></th>\n",
              "      <th>date</th>\n",
              "      <th>symbol</th>\n",
              "      <th>open</th>\n",
              "      <th>close</th>\n",
              "      <th>low</th>\n",
              "      <th>high</th>\n",
              "      <th>volume</th>\n",
              "    </tr>\n",
              "  </thead>\n",
              "  <tbody>\n",
              "    <tr>\n",
              "      <th>0</th>\n",
              "      <td>2016-01-05 00:00:00</td>\n",
              "      <td>WLTW</td>\n",
              "      <td>123.430000</td>\n",
              "      <td>125.839996</td>\n",
              "      <td>122.309998</td>\n",
              "      <td>126.250000</td>\n",
              "      <td>2163600.0</td>\n",
              "    </tr>\n",
              "    <tr>\n",
              "      <th>1</th>\n",
              "      <td>2016-01-06 00:00:00</td>\n",
              "      <td>WLTW</td>\n",
              "      <td>125.239998</td>\n",
              "      <td>119.980003</td>\n",
              "      <td>119.940002</td>\n",
              "      <td>125.540001</td>\n",
              "      <td>2386400.0</td>\n",
              "    </tr>\n",
              "    <tr>\n",
              "      <th>2</th>\n",
              "      <td>2016-01-07 00:00:00</td>\n",
              "      <td>WLTW</td>\n",
              "      <td>116.379997</td>\n",
              "      <td>114.949997</td>\n",
              "      <td>114.930000</td>\n",
              "      <td>119.739998</td>\n",
              "      <td>2489500.0</td>\n",
              "    </tr>\n",
              "    <tr>\n",
              "      <th>3</th>\n",
              "      <td>2016-01-08 00:00:00</td>\n",
              "      <td>WLTW</td>\n",
              "      <td>115.480003</td>\n",
              "      <td>116.620003</td>\n",
              "      <td>113.500000</td>\n",
              "      <td>117.440002</td>\n",
              "      <td>2006300.0</td>\n",
              "    </tr>\n",
              "    <tr>\n",
              "      <th>4</th>\n",
              "      <td>2016-01-11 00:00:00</td>\n",
              "      <td>WLTW</td>\n",
              "      <td>117.010002</td>\n",
              "      <td>114.970001</td>\n",
              "      <td>114.089996</td>\n",
              "      <td>117.330002</td>\n",
              "      <td>1408600.0</td>\n",
              "    </tr>\n",
              "    <tr>\n",
              "      <th>5</th>\n",
              "      <td>2016-01-12 00:00:00</td>\n",
              "      <td>WLTW</td>\n",
              "      <td>115.510002</td>\n",
              "      <td>115.550003</td>\n",
              "      <td>114.500000</td>\n",
              "      <td>116.059998</td>\n",
              "      <td>1098000.0</td>\n",
              "    </tr>\n",
              "    <tr>\n",
              "      <th>6</th>\n",
              "      <td>2016-01-13 00:00:00</td>\n",
              "      <td>WLTW</td>\n",
              "      <td>116.459999</td>\n",
              "      <td>112.849998</td>\n",
              "      <td>112.589996</td>\n",
              "      <td>117.070000</td>\n",
              "      <td>949600.0</td>\n",
              "    </tr>\n",
              "    <tr>\n",
              "      <th>7</th>\n",
              "      <td>2016-01-14 00:00:00</td>\n",
              "      <td>WLTW</td>\n",
              "      <td>113.510002</td>\n",
              "      <td>114.379997</td>\n",
              "      <td>110.050003</td>\n",
              "      <td>115.029999</td>\n",
              "      <td>785300.0</td>\n",
              "    </tr>\n",
              "    <tr>\n",
              "      <th>8</th>\n",
              "      <td>2016-01-15 00:00:00</td>\n",
              "      <td>WLTW</td>\n",
              "      <td>113.330002</td>\n",
              "      <td>112.529999</td>\n",
              "      <td>111.919998</td>\n",
              "      <td>114.879997</td>\n",
              "      <td>1093700.0</td>\n",
              "    </tr>\n",
              "    <tr>\n",
              "      <th>9</th>\n",
              "      <td>2016-01-19 00:00:00</td>\n",
              "      <td>WLTW</td>\n",
              "      <td>113.660004</td>\n",
              "      <td>110.379997</td>\n",
              "      <td>109.870003</td>\n",
              "      <td>115.870003</td>\n",
              "      <td>1523500.0</td>\n",
              "    </tr>\n",
              "    <tr>\n",
              "      <th>10</th>\n",
              "      <td>2016-01-20 00:00:00</td>\n",
              "      <td>WLTW</td>\n",
              "      <td>109.059998</td>\n",
              "      <td>109.300003</td>\n",
              "      <td>108.320000</td>\n",
              "      <td>111.599998</td>\n",
              "      <td>1653900.0</td>\n",
              "    </tr>\n",
              "    <tr>\n",
              "      <th>11</th>\n",
              "      <td>2016-01-21 00:00:00</td>\n",
              "      <td>WLTW</td>\n",
              "      <td>109.730003</td>\n",
              "      <td>110.000000</td>\n",
              "      <td>108.320000</td>\n",
              "      <td>110.580002</td>\n",
              "      <td>944300.0</td>\n",
              "    </tr>\n",
              "    <tr>\n",
              "      <th>12</th>\n",
              "      <td>2016-01-22 00:00:00</td>\n",
              "      <td>WLTW</td>\n",
              "      <td>111.879997</td>\n",
              "      <td>111.949997</td>\n",
              "      <td>110.190002</td>\n",
              "      <td>112.949997</td>\n",
              "      <td>744900.0</td>\n",
              "    </tr>\n",
              "    <tr>\n",
              "      <th>13</th>\n",
              "      <td>2016-01-25 00:00:00</td>\n",
              "      <td>WLTW</td>\n",
              "      <td>111.320000</td>\n",
              "      <td>110.120003</td>\n",
              "      <td>110.000000</td>\n",
              "      <td>114.629997</td>\n",
              "      <td>703800.0</td>\n",
              "    </tr>\n",
              "    <tr>\n",
              "      <th>14</th>\n",
              "      <td>2016-01-26 00:00:00</td>\n",
              "      <td>WLTW</td>\n",
              "      <td>110.419998</td>\n",
              "      <td>111.000000</td>\n",
              "      <td>107.300003</td>\n",
              "      <td>111.400002</td>\n",
              "      <td>563100.0</td>\n",
              "    </tr>\n",
              "  </tbody>\n",
              "</table>\n",
              "</div>"
            ],
            "text/plain": [
              "                   date symbol        open  ...         low        high     volume\n",
              "0   2016-01-05 00:00:00   WLTW  123.430000  ...  122.309998  126.250000  2163600.0\n",
              "1   2016-01-06 00:00:00   WLTW  125.239998  ...  119.940002  125.540001  2386400.0\n",
              "2   2016-01-07 00:00:00   WLTW  116.379997  ...  114.930000  119.739998  2489500.0\n",
              "3   2016-01-08 00:00:00   WLTW  115.480003  ...  113.500000  117.440002  2006300.0\n",
              "4   2016-01-11 00:00:00   WLTW  117.010002  ...  114.089996  117.330002  1408600.0\n",
              "5   2016-01-12 00:00:00   WLTW  115.510002  ...  114.500000  116.059998  1098000.0\n",
              "6   2016-01-13 00:00:00   WLTW  116.459999  ...  112.589996  117.070000   949600.0\n",
              "7   2016-01-14 00:00:00   WLTW  113.510002  ...  110.050003  115.029999   785300.0\n",
              "8   2016-01-15 00:00:00   WLTW  113.330002  ...  111.919998  114.879997  1093700.0\n",
              "9   2016-01-19 00:00:00   WLTW  113.660004  ...  109.870003  115.870003  1523500.0\n",
              "10  2016-01-20 00:00:00   WLTW  109.059998  ...  108.320000  111.599998  1653900.0\n",
              "11  2016-01-21 00:00:00   WLTW  109.730003  ...  108.320000  110.580002   944300.0\n",
              "12  2016-01-22 00:00:00   WLTW  111.879997  ...  110.190002  112.949997   744900.0\n",
              "13  2016-01-25 00:00:00   WLTW  111.320000  ...  110.000000  114.629997   703800.0\n",
              "14  2016-01-26 00:00:00   WLTW  110.419998  ...  107.300003  111.400002   563100.0\n",
              "\n",
              "[15 rows x 7 columns]"
            ]
          },
          "metadata": {
            "tags": []
          },
          "execution_count": 182
        }
      ]
    },
    {
      "cell_type": "code",
      "metadata": {
        "colab": {
          "base_uri": "https://localhost:8080/"
        },
        "id": "_jk4cBQS-yN2",
        "outputId": "0919b713-ee9b-450c-e1fc-1faa2fd5da17"
      },
      "source": [
        "df.info()"
      ],
      "execution_count": 183,
      "outputs": [
        {
          "output_type": "stream",
          "text": [
            "<class 'pandas.core.frame.DataFrame'>\n",
            "RangeIndex: 851264 entries, 0 to 851263\n",
            "Data columns (total 7 columns):\n",
            " #   Column  Non-Null Count   Dtype  \n",
            "---  ------  --------------   -----  \n",
            " 0   date    851264 non-null  object \n",
            " 1   symbol  851264 non-null  object \n",
            " 2   open    851264 non-null  float64\n",
            " 3   close   851264 non-null  float64\n",
            " 4   low     851264 non-null  float64\n",
            " 5   high    851264 non-null  float64\n",
            " 6   volume  851264 non-null  float64\n",
            "dtypes: float64(5), object(2)\n",
            "memory usage: 45.5+ MB\n"
          ],
          "name": "stdout"
        }
      ]
    },
    {
      "cell_type": "code",
      "metadata": {
        "colab": {
          "base_uri": "https://localhost:8080/"
        },
        "id": "ZtFWcIBx_M4M",
        "outputId": "28b88ccd-c007-4483-c7ab-10ef3e332178"
      },
      "source": [
        "df.shape"
      ],
      "execution_count": 184,
      "outputs": [
        {
          "output_type": "execute_result",
          "data": {
            "text/plain": [
              "(851264, 7)"
            ]
          },
          "metadata": {
            "tags": []
          },
          "execution_count": 184
        }
      ]
    },
    {
      "cell_type": "markdown",
      "metadata": {
        "id": "HlLKVPVH_BCT"
      },
      "source": [
        "## Question 2"
      ]
    },
    {
      "cell_type": "markdown",
      "metadata": {
        "id": "9J4BlzVA_gZd"
      },
      "source": [
        "### Drop columnns\n",
        "- drop \"date\" and \"symbol\" column from the data"
      ]
    },
    {
      "cell_type": "code",
      "metadata": {
        "id": "IKEK8aEE_Csx"
      },
      "source": [
        "prices_new = df.drop([\"date\", \"symbol\"],axis=1)"
      ],
      "execution_count": 185,
      "outputs": []
    },
    {
      "cell_type": "markdown",
      "metadata": {
        "id": "cTPhO6v-AiZt"
      },
      "source": [
        "## Question 3"
      ]
    },
    {
      "cell_type": "markdown",
      "metadata": {
        "id": "SsZXmF3NAkna"
      },
      "source": [
        "### Take initial rows\n",
        "- Take first 1000 rows from the data\n",
        "- This step is done to make the execution faster"
      ]
    },
    {
      "cell_type": "code",
      "metadata": {
        "id": "aKs04iIHAjxN",
        "colab": {
          "base_uri": "https://localhost:8080/"
        },
        "outputId": "44fdee6f-82ba-4012-dced-df7dccf50c49"
      },
      "source": [
        "prices_new = prices_new.sample(1000,random_state=10)\r\n",
        "prices_new.shape"
      ],
      "execution_count": 186,
      "outputs": [
        {
          "output_type": "execute_result",
          "data": {
            "text/plain": [
              "(1000, 5)"
            ]
          },
          "metadata": {
            "tags": []
          },
          "execution_count": 186
        }
      ]
    },
    {
      "cell_type": "markdown",
      "metadata": {
        "id": "6vGtnapgBIJm"
      },
      "source": [
        "## Question 4"
      ]
    },
    {
      "cell_type": "code",
      "metadata": {
        "colab": {
          "base_uri": "https://localhost:8080/"
        },
        "id": "5pLKBYEtAIbT",
        "outputId": "8f645ef8-43d9-4ccf-d65e-2fcd077ad0a0"
      },
      "source": [
        "prices_new.head"
      ],
      "execution_count": 187,
      "outputs": [
        {
          "output_type": "execute_result",
          "data": {
            "text/plain": [
              "<bound method NDFrame.head of               open       close         low        high      volume\n",
              "478962   88.660004   89.410004   88.660004   89.639999   3880200.0\n",
              "601815   35.240002   33.930000   33.680000   35.240002   7508400.0\n",
              "701659   32.830002   32.970001   32.810001   33.220001   3381500.0\n",
              "322077   24.709998   25.019996   24.709998   25.060000  14125500.0\n",
              "538163  211.949997  214.250000  211.830002  215.350006  10993600.0\n",
              "...            ...         ...         ...         ...         ...\n",
              "261967   35.070003   35.299997   34.740008   35.330002   5077900.0\n",
              "779758  178.320007  181.110001  177.820007  181.190002    838000.0\n",
              "373916    9.260000    9.330000    9.200000    9.400000  10548200.0\n",
              "342580   12.410000   12.920000   12.200000   13.000000   7475600.0\n",
              "446892   39.750000   39.500000   39.169998   39.889999   1379500.0\n",
              "\n",
              "[1000 rows x 5 columns]>"
            ]
          },
          "metadata": {
            "tags": []
          },
          "execution_count": 187
        }
      ]
    },
    {
      "cell_type": "markdown",
      "metadata": {
        "id": "C8u_jlbABTip"
      },
      "source": [
        "### Get features and label from the dataset in separate variable\n",
        "- Take \"open\", \"close\", \"low\", \"high\" columns as features\n",
        "- Take \"volume\" column as label\n",
        "- Normalize label column by dividing it with 1000000"
      ]
    },
    {
      "cell_type": "code",
      "metadata": {
        "id": "YjjJ9iNdAKTM"
      },
      "source": [
        "#volume is target column , open ,close ,low and high --> feature"
      ],
      "execution_count": null,
      "outputs": []
    },
    {
      "cell_type": "code",
      "metadata": {
        "id": "xQjCMzUXBJbg"
      },
      "source": [
        "X= prices_new.drop('volume',axis =1)\r\n",
        "y= prices_new['volume']/1000000"
      ],
      "execution_count": 188,
      "outputs": []
    },
    {
      "cell_type": "markdown",
      "metadata": {
        "id": "aTAKzlxZBz0z"
      },
      "source": [
        "## Question 5"
      ]
    },
    {
      "cell_type": "markdown",
      "metadata": {
        "id": "IfY8Km1Zzyt2"
      },
      "source": [
        "### Convert data\n",
        "- Convert features and labels to numpy array\n",
        "- Convert their data type to \"float32\"\n",
        " - ##### Converting to float 32 from float 64 - Why???\n",
        "   - Ans : 1. exploding gradient problem - this is avoided by changing to float 32, so all int or float 64 to float 32\n",
        "   - 2. vanishing gradient - saddle points , local minimas help get over the problem, but if nn is very deep , and has lots of layers like 20+ "
      ]
    },
    {
      "cell_type": "code",
      "metadata": {
        "id": "Ko7nnQVbYENh"
      },
      "source": [
        "import numpy as np\r\n",
        "X = np.array(X).astype('float32')\r\n",
        "y = np.array(y).astype('float32')\r\n"
      ],
      "execution_count": 200,
      "outputs": []
    },
    {
      "cell_type": "markdown",
      "metadata": {
        "id": "3TWpN0nVTpUx"
      },
      "source": [
        "## Question 6"
      ]
    },
    {
      "cell_type": "markdown",
      "metadata": {
        "id": "WQ1FKEs-4btX"
      },
      "source": [
        "### Normalize data\n",
        "- Normalize features\n",
        "- Use tf.math.l2_normalize to normalize features\n",
        "- You can read more about it here https://www.tensorflow.org/api_docs/python/tf/math/l2_normalize"
      ]
    },
    {
      "cell_type": "code",
      "metadata": {
        "id": "V0Tfe00X78wB"
      },
      "source": [
        "X=tf.math.l2_normalize(X)\r\n",
        "#or\r\n",
        "#X= tf.math.l2_normalize(X, axis=None, epsilon=1e-12, name=None)"
      ],
      "execution_count": 201,
      "outputs": []
    },
    {
      "cell_type": "markdown",
      "metadata": {
        "id": "wmXUGc2oTspa"
      },
      "source": [
        "## Question 7"
      ]
    },
    {
      "cell_type": "markdown",
      "metadata": {
        "id": "VJelDMpzxs0L"
      },
      "source": [
        "### Define weight and bias\n",
        "- Initialize weight and bias with tf.zeros\n",
        "- tf.zeros is an initializer that generates tensors initialized to 0\n",
        "- Specify the value for shape"
      ]
    },
    {
      "cell_type": "code",
      "metadata": {
        "id": "8o9RPWVTxs0O"
      },
      "source": [
        "W= tf.zeros(shape=(4,1))\r\n",
        "b = tf.zeros(shape=(1))"
      ],
      "execution_count": 202,
      "outputs": []
    },
    {
      "cell_type": "code",
      "metadata": {
        "id": "8PbkBW7zQGQl"
      },
      "source": [
        ""
      ],
      "execution_count": null,
      "outputs": []
    },
    {
      "cell_type": "markdown",
      "metadata": {
        "id": "8a0wr94aTyjg"
      },
      "source": [
        "## Question 8"
      ]
    },
    {
      "cell_type": "markdown",
      "metadata": {
        "id": "zMXXYdOSxs0Q"
      },
      "source": [
        "### Get prediction\n",
        "- Define a function to get prediction\n",
        "- Approach: prediction = (X * W) + b; here is X is features"
      ]
    },
    {
      "cell_type": "code",
      "metadata": {
        "id": "U8Cty1y0xs0S"
      },
      "source": [
        "@tf.function\r\n",
        "def prediction(features, W,b):\r\n",
        "  y_pred=tf.add(tf.matmul(features, W), b)\r\n",
        "  return y_pred"
      ],
      "execution_count": 203,
      "outputs": []
    },
    {
      "cell_type": "markdown",
      "metadata": {
        "id": "lQmS3Tauxs0V"
      },
      "source": [
        "### Calculate loss\n",
        "- Calculate loss using predictions\n",
        "- Define a function to calculate loss\n",
        "- We are calculating mean squared error"
      ]
    },
    {
      "cell_type": "markdown",
      "metadata": {
        "id": "frWY9wPFQHfZ"
      },
      "source": [
        ""
      ]
    },
    {
      "cell_type": "code",
      "metadata": {
        "id": "-FRXmDd5xs0X"
      },
      "source": [
        "@tf.function\r\n",
        "def loss(y_actual, y_predicted):\r\n",
        "    diff = y_actual - y_predicted\r\n",
        "    sqr = tf.square(diff)\r\n",
        "    avg = tf.reduce_mean(sqr)\r\n",
        "    return avg"
      ],
      "execution_count": 204,
      "outputs": []
    },
    {
      "cell_type": "markdown",
      "metadata": {
        "id": "ZbBpnOtfT0wd"
      },
      "source": [
        "## Question 9"
      ]
    },
    {
      "cell_type": "markdown",
      "metadata": {
        "id": "bkOzAUUsTmF_"
      },
      "source": [
        "### Define a function to train the model\n",
        "1.   Record all the mathematical steps to calculate Loss\n",
        "2.   Calculate Gradients of Loss w.r.t weights and bias\n",
        "3.   Update Weights and Bias based on gradients and learning rate to minimize loss"
      ]
    },
    {
      "cell_type": "code",
      "metadata": {
        "id": "2R4uieGYLYtM"
      },
      "source": [
        "def train(x, y_actual, w, b, learning_rate=0.01):\r\n",
        "    \r\n",
        "    # Record mathematical operations on 'tape' to calculate loss\r\n",
        "    with tf.GradientTape() as t:\r\n",
        "        t.watch([w,b])\r\n",
        "        current_prediction = prediction(x, w, b)\r\n",
        "        current_loss = loss(y_actual, current_prediction)\r\n",
        "    \r\n",
        "    # Calculate Gradients for Loss with respect to Weights and Bias\r\n",
        "    dw, db = t.gradient(current_loss,[w, b])\r\n",
        "    \r\n",
        "    # Update Weights and Bias\r\n",
        "    w = w - learning_rate * dw\r\n",
        "    b = b - learning_rate * db\r\n",
        "    \r\n",
        "    return w, b"
      ],
      "execution_count": 205,
      "outputs": []
    },
    {
      "cell_type": "markdown",
      "metadata": {
        "id": "AW4SEP8kT2ls"
      },
      "source": [
        "## Question 10"
      ]
    },
    {
      "cell_type": "markdown",
      "metadata": {
        "id": "yeN0deOvT81N"
      },
      "source": [
        "### Train the model for 100 epochs \n",
        "- Observe the training loss at every iteration"
      ]
    },
    {
      "cell_type": "code",
      "metadata": {
        "id": "Jjkn4gUgLevE",
        "colab": {
          "base_uri": "https://localhost:8080/"
        },
        "outputId": "fb2f0fee-62e5-4944-add0-f1846883bd3f"
      },
      "source": [
        "for i in range(100):    \r\n",
        "    W, b = train(X, y, W, b)\r\n",
        "    print('Current Training Loss on iteration', i, loss(y, prediction(X, W, b)).numpy())"
      ],
      "execution_count": 207,
      "outputs": [
        {
          "output_type": "stream",
          "text": [
            "Current Training Loss on iteration 0 106.42545\n",
            "Current Training Loss on iteration 1 105.54534\n",
            "Current Training Loss on iteration 2 104.70011\n",
            "Current Training Loss on iteration 3 103.88837\n",
            "Current Training Loss on iteration 4 103.10879\n",
            "Current Training Loss on iteration 5 102.360115\n",
            "Current Training Loss on iteration 6 101.64107\n",
            "Current Training Loss on iteration 7 100.95053\n",
            "Current Training Loss on iteration 8 100.28734\n",
            "Current Training Loss on iteration 9 99.65041\n",
            "Current Training Loss on iteration 10 99.03874\n",
            "Current Training Loss on iteration 11 98.4513\n",
            "Current Training Loss on iteration 12 97.88716\n",
            "Current Training Loss on iteration 13 97.34533\n",
            "Current Training Loss on iteration 14 96.824974\n",
            "Current Training Loss on iteration 15 96.32523\n",
            "Current Training Loss on iteration 16 95.84531\n",
            "Current Training Loss on iteration 17 95.384384\n",
            "Current Training Loss on iteration 18 94.94173\n",
            "Current Training Loss on iteration 19 94.516624\n",
            "Current Training Loss on iteration 20 94.10834\n",
            "Current Training Loss on iteration 21 93.71624\n",
            "Current Training Loss on iteration 22 93.33967\n",
            "Current Training Loss on iteration 23 92.97803\n",
            "Current Training Loss on iteration 24 92.63072\n",
            "Current Training Loss on iteration 25 92.29715\n",
            "Current Training Loss on iteration 26 91.9768\n",
            "Current Training Loss on iteration 27 91.66917\n",
            "Current Training Loss on iteration 28 91.373695\n",
            "Current Training Loss on iteration 29 91.08995\n",
            "Current Training Loss on iteration 30 90.81744\n",
            "Current Training Loss on iteration 31 90.555725\n",
            "Current Training Loss on iteration 32 90.30437\n",
            "Current Training Loss on iteration 33 90.06299\n",
            "Current Training Loss on iteration 34 89.831154\n",
            "Current Training Loss on iteration 35 89.60853\n",
            "Current Training Loss on iteration 36 89.39471\n",
            "Current Training Loss on iteration 37 89.18935\n",
            "Current Training Loss on iteration 38 88.99214\n",
            "Current Training Loss on iteration 39 88.802734\n",
            "Current Training Loss on iteration 40 88.62085\n",
            "Current Training Loss on iteration 41 88.44616\n",
            "Current Training Loss on iteration 42 88.27838\n",
            "Current Training Loss on iteration 43 88.11728\n",
            "Current Training Loss on iteration 44 87.96255\n",
            "Current Training Loss on iteration 45 87.81393\n",
            "Current Training Loss on iteration 46 87.67122\n",
            "Current Training Loss on iteration 47 87.53415\n",
            "Current Training Loss on iteration 48 87.40251\n",
            "Current Training Loss on iteration 49 87.27611\n",
            "Current Training Loss on iteration 50 87.154686\n",
            "Current Training Loss on iteration 51 87.03809\n",
            "Current Training Loss on iteration 52 86.92611\n",
            "Current Training Loss on iteration 53 86.81857\n",
            "Current Training Loss on iteration 54 86.715294\n",
            "Current Training Loss on iteration 55 86.616104\n",
            "Current Training Loss on iteration 56 86.52084\n",
            "Current Training Loss on iteration 57 86.42936\n",
            "Current Training Loss on iteration 58 86.3415\n",
            "Current Training Loss on iteration 59 86.25711\n",
            "Current Training Loss on iteration 60 86.17608\n",
            "Current Training Loss on iteration 61 86.09825\n",
            "Current Training Loss on iteration 62 86.02351\n",
            "Current Training Loss on iteration 63 85.95172\n",
            "Current Training Loss on iteration 64 85.88279\n",
            "Current Training Loss on iteration 65 85.81658\n",
            "Current Training Loss on iteration 66 85.753\n",
            "Current Training Loss on iteration 67 85.69193\n",
            "Current Training Loss on iteration 68 85.633286\n",
            "Current Training Loss on iteration 69 85.57697\n",
            "Current Training Loss on iteration 70 85.52287\n",
            "Current Training Loss on iteration 71 85.47094\n",
            "Current Training Loss on iteration 72 85.42105\n",
            "Current Training Loss on iteration 73 85.37314\n",
            "Current Training Loss on iteration 74 85.32712\n",
            "Current Training Loss on iteration 75 85.28293\n",
            "Current Training Loss on iteration 76 85.24048\n",
            "Current Training Loss on iteration 77 85.19973\n",
            "Current Training Loss on iteration 78 85.160576\n",
            "Current Training Loss on iteration 79 85.12299\n",
            "Current Training Loss on iteration 80 85.08688\n",
            "Current Training Loss on iteration 81 85.05221\n",
            "Current Training Loss on iteration 82 85.01893\n",
            "Current Training Loss on iteration 83 84.986946\n",
            "Current Training Loss on iteration 84 84.95622\n",
            "Current Training Loss on iteration 85 84.92673\n",
            "Current Training Loss on iteration 86 84.8984\n",
            "Current Training Loss on iteration 87 84.8712\n",
            "Current Training Loss on iteration 88 84.84507\n",
            "Current Training Loss on iteration 89 84.81998\n",
            "Current Training Loss on iteration 90 84.795876\n",
            "Current Training Loss on iteration 91 84.772736\n",
            "Current Training Loss on iteration 92 84.75051\n",
            "Current Training Loss on iteration 93 84.72916\n",
            "Current Training Loss on iteration 94 84.70866\n",
            "Current Training Loss on iteration 95 84.68897\n",
            "Current Training Loss on iteration 96 84.67007\n",
            "Current Training Loss on iteration 97 84.6519\n",
            "Current Training Loss on iteration 98 84.63446\n",
            "Current Training Loss on iteration 99 84.61772\n"
          ],
          "name": "stdout"
        }
      ]
    },
    {
      "cell_type": "markdown",
      "metadata": {
        "id": "vanvD93FV0_k"
      },
      "source": [
        "### Observe values of Weight\n",
        "- Print the updated values"
      ]
    },
    {
      "cell_type": "code",
      "metadata": {
        "id": "QSqpy4gtWaOD",
        "colab": {
          "base_uri": "https://localhost:8080/"
        },
        "outputId": "f46d6c00-96a3-4049-a5f1-626098986ac3"
      },
      "source": [
        "W"
      ],
      "execution_count": 208,
      "outputs": [
        {
          "output_type": "execute_result",
          "data": {
            "text/plain": [
              "<tf.Tensor: shape=(4, 1), dtype=float32, numpy=\n",
              "array([[0.05243566],\n",
              "       [0.05242828],\n",
              "       [0.05190206],\n",
              "       [0.05294951]], dtype=float32)>"
            ]
          },
          "metadata": {
            "tags": []
          },
          "execution_count": 208
        }
      ]
    },
    {
      "cell_type": "markdown",
      "metadata": {
        "id": "y9KpRupYUEwy"
      },
      "source": [
        "### Observe values of Bias\n",
        "- Print the updated values"
      ]
    },
    {
      "cell_type": "code",
      "metadata": {
        "id": "bhEWkGqHWohg",
        "colab": {
          "base_uri": "https://localhost:8080/"
        },
        "outputId": "65efec91-3d01-4d76-866a-b9d58a756602"
      },
      "source": [
        "b.numpy()"
      ],
      "execution_count": 209,
      "outputs": [
        {
          "output_type": "execute_result",
          "data": {
            "text/plain": [
              "array([4.681333], dtype=float32)"
            ]
          },
          "metadata": {
            "tags": []
          },
          "execution_count": 209
        }
      ]
    }
  ]
}